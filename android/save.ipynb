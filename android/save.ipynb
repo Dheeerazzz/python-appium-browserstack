{
 "cells": [
  {
   "cell_type": "code",
   "execution_count": null,
   "metadata": {},
   "outputs": [],
   "source": [
    "dwnld: //android.widget.ImageView[@resource-id=\"com.hd.video.downloader.xv:id/loginBtn1\"]\n"
   ]
  },
  {
   "cell_type": "code",
   "execution_count": null,
   "metadata": {},
   "outputs": [],
   "source": [
    "com.hd.video.downloader.xv:id/ad_call_to_action\n",
    "android.widget.Button"
   ]
  }
 ],
 "metadata": {
  "language_info": {
   "name": "python"
  }
 },
 "nbformat": 4,
 "nbformat_minor": 2
}
